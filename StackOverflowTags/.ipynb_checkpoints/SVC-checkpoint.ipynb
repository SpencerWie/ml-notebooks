{
 "cells": [
  {
   "cell_type": "markdown",
   "metadata": {},
   "source": [
    "<h2>SVM - StackOverflow Tags Dataset</h2>\n",
    "\n",
    "<p>This is a dataset which contains question text and the corisponding tag to those questions. This example uses the top 20 tags as a classification task.</p>\n",
    "\n",
    "<p><strong>Current best: 81.833.. %</strong></p>"
   ]
  },
  {
   "cell_type": "markdown",
   "metadata": {},
   "source": [
    "First we import libaries. We will be using sklearn mainly for the classification functionailty."
   ]
  },
  {
   "cell_type": "code",
   "execution_count": 3,
   "metadata": {},
   "outputs": [
    {
     "name": "stderr",
     "output_type": "stream",
     "text": [
      "C:\\Users\\Spencer\\Anaconda3\\lib\\site-packages\\gensim\\utils.py:1197: UserWarning: detected Windows; aliasing chunkize to chunkize_serial\n",
      "  warnings.warn(\"detected Windows; aliasing chunkize to chunkize_serial\")\n"
     ]
    }
   ],
   "source": [
    "import logging\n",
    "import pandas as pd\n",
    "import numpy as np\n",
    "from numpy import random\n",
    "import gensim\n",
    "import nltk\n",
    "from sklearn.model_selection import train_test_split\n",
    "from sklearn.feature_extraction.text import CountVectorizer, TfidfVectorizer\n",
    "from sklearn.metrics import accuracy_score, confusion_matrix\n",
    "from nltk.corpus import stopwords\n",
    "import re\n",
    "from bs4 import BeautifulSoup\n",
    "\n",
    "from sklearn.calibration import CalibratedClassifierCV\n",
    "from sklearn.pipeline import Pipeline\n",
    "from sklearn.feature_extraction.text import TfidfTransformer\n",
    "from sklearn.linear_model import SGDClassifier\n",
    "from sklearn.svm import LinearSVC\n",
    "from sklearn.metrics import classification_report"
   ]
  },
  {
   "cell_type": "markdown",
   "metadata": {},
   "source": [
    "<p>Now we grap our dataset and convert it to be used by a classifyer.</p>\n",
    "<p>Some of the cleaning steps include excluding characters that are not word-like and exlcuding stopwords</p>"
   ]
  },
  {
   "cell_type": "code",
   "execution_count": 5,
   "metadata": {},
   "outputs": [],
   "source": [
    "# Used tags for classification\n",
    "my_tags = ['java','html','asp.net','c#','ruby-on-rails','jquery','mysql','php','ios','javascript','python','c','css','android','iphone','sql','objective-c','c++','angularjs','.net']\n",
    "\n",
    "# Read SO dataset\n",
    "data = pd.read_csv('https://storage.googleapis.com/tensorflow-workshop-examples/stack-overflow-data.csv')\n",
    "data = data[pd.notnull(data.tags)]\n",
    "\n",
    "STOPWORDS = set(stopwords.words('english'))\n",
    "REG_SYMBOLS_TO_SPACE = re.compile('[/(){}\\[\\]\\|@,;]')\n",
    "REG_STRIPED_SYMBOLS = re.compile('[^0-9a-z #+_]')\n",
    "\n",
    "def clean_text(text):\n",
    "    text = BeautifulSoup(text, \"lxml\").text\n",
    "    text = REG_SYMBOLS_TO_SPACE.sub(' ', text)\n",
    "    text = REG_STRIPED_SYMBOLS.sub('', text)\n",
    "    text = ' '.join(word for word in text.split() if word not in STOPWORDS)\n",
    "    return text\n",
    "\n",
    "data.post = data.post.apply(clean_text)\n",
    "\n",
    "X = data.post\n",
    "Y = data.tags\n",
    "\n",
    "X_train, X_test, y_train, y_test = train_test_split(X, Y, test_size=0.3, random_state = 42)\n"
   ]
  },
  {
   "cell_type": "markdown",
   "metadata": {},
   "source": [
    "<p>\n",
    "First we create a count vector which converts to lowercase. It also includes both 1-gram and 2-gram features, this means a BOW feature extration that includes unquie words plus unquie word pairs. Then we apply tf-idf.\n",
    "</p>\n",
    "\n",
    "<p>\n",
    "The classifyer uses a crosss-valdiation of 4 and a `linearSVC` (_N one-vs-rest SVMs, where N is the number of classes_) with hinge loss.\n",
    "</p>"
   ]
  },
  {
   "cell_type": "code",
   "execution_count": 8,
   "metadata": {},
   "outputs": [
    {
     "name": "stdout",
     "output_type": "stream",
     "text": [
      "Accuracy: 0.8183333333333334\n",
      "               precision    recall  f1-score   support\n",
      "\n",
      "         java       0.78      0.66      0.72       613\n",
      "         html       0.92      0.92      0.92       620\n",
      "      asp.net       0.96      0.96      0.96       587\n",
      "           c#       0.82      0.79      0.81       586\n",
      "ruby-on-rails       0.83      0.86      0.84       599\n",
      "       jquery       0.62      0.65      0.63       589\n",
      "        mysql       0.80      0.78      0.79       594\n",
      "          php       0.84      0.90      0.87       610\n",
      "          ios       0.74      0.74      0.74       617\n",
      "   javascript       0.70      0.65      0.67       587\n",
      "       python       0.71      0.70      0.70       611\n",
      "            c       0.87      0.87      0.87       594\n",
      "          css       0.80      0.80      0.80       619\n",
      "      android       0.86      0.87      0.87       574\n",
      "       iphone       0.85      0.84      0.84       584\n",
      "          sql       0.71      0.69      0.70       578\n",
      "  objective-c       0.86      0.88      0.87       591\n",
      "          c++       0.90      0.95      0.93       608\n",
      "    angularjs       0.96      0.95      0.96       638\n",
      "         .net       0.82      0.89      0.85       601\n",
      "\n",
      "  avg / total       0.82      0.82      0.82     12000\n",
      "\n"
     ]
    }
   ],
   "source": [
    "svm = Pipeline([('vect', CountVectorizer(lowercase=True, ngram_range=(1, 2))),\n",
    "                ('tfidf', TfidfTransformer()),\n",
    "                ('clf', CalibratedClassifierCV(LinearSVC(C=1, loss='hinge', class_weight='balanced'), cv=4))\n",
    "               ])\n",
    "svm.fit(X_train, y_train)\n",
    "\n",
    "y_pred = svm.predict(X_test)\n",
    "\n",
    "print('Accuracy: ' + str(accuracy_score(y_pred, y_test)))\n",
    "print(classification_report(y_test, y_pred,target_names=my_tags))"
   ]
  },
  {
   "cell_type": "code",
   "execution_count": null,
   "metadata": {},
   "outputs": [],
   "source": []
  }
 ],
 "metadata": {
  "kernelspec": {
   "display_name": "Python 3",
   "language": "python",
   "name": "python3"
  },
  "language_info": {
   "codemirror_mode": {
    "name": "ipython",
    "version": 3
   },
   "file_extension": ".py",
   "mimetype": "text/x-python",
   "name": "python",
   "nbconvert_exporter": "python",
   "pygments_lexer": "ipython3",
   "version": "3.6.5"
  }
 },
 "nbformat": 4,
 "nbformat_minor": 2
}
