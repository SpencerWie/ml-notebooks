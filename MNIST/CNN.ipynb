{
 "cells": [
  {
   "cell_type": "markdown",
   "metadata": {},
   "source": [
    "<h2>MNIST Dataset using Convolutional Neural Networks<h2>\n",
    "\n",
    "<p>\n",
    "<h4>Current Best: 99.49%</h4>\n",
    "The current best result of <strong>99.49 %</strong> is shown below. When a a better result is reached it will replace this one.\n",
    "</p>"
   ]
  },
  {
   "cell_type": "code",
   "execution_count": 1,
   "metadata": {},
   "outputs": [
    {
     "name": "stderr",
     "output_type": "stream",
     "text": [
      "C:\\Users\\Spencer\\Anaconda3\\lib\\site-packages\\h5py\\__init__.py:36: FutureWarning: Conversion of the second argument of issubdtype from `float` to `np.floating` is deprecated. In future, it will be treated as `np.float64 == np.dtype(float).type`.\n",
      "  from ._conv import register_converters as _register_converters\n",
      "Using TensorFlow backend.\n"
     ]
    }
   ],
   "source": [
    "# Imports\n",
    "from __future__ import print_function\n",
    "import keras\n",
    "from keras.datasets import mnist\n",
    "from keras.models import Sequential\n",
    "from keras.layers import Dense, Dropout, Flatten\n",
    "from keras.layers import Conv2D, MaxPooling2D\n",
    "from keras import backend as K"
   ]
  },
  {
   "cell_type": "code",
   "execution_count": 9,
   "metadata": {},
   "outputs": [],
   "source": [
    "# Loads the MNIST Dataset and converts the data into a binary vector on X and binary class matrices on Y \n",
    "def loadAndPrepareMNIST():\n",
    "    # input image dimensions\n",
    "    rows, cols = 28, 28\n",
    "    (x_train, y_train), (x_test, y_test) = mnist.load_data()\n",
    "\n",
    "    if K.image_data_format() == 'channels_first':\n",
    "        x_train = x_train.reshape(x_train.shape[0], 1, rows, cols)\n",
    "        x_test = x_test.reshape(x_test.shape[0], 1, rows, cols)\n",
    "        input_shape = (1, rows, cols)\n",
    "    else:\n",
    "        x_train = x_train.reshape(x_train.shape[0], rows, cols, 1)\n",
    "        x_test = x_test.reshape(x_test.shape[0], rows, cols, 1)\n",
    "        input_shape = (rows, cols, 1)\n",
    "\n",
    "    x_train = x_train.astype('float32')\n",
    "    x_test = x_test.astype('float32')\n",
    "    x_train /= 255\n",
    "    x_test /= 255\n",
    "    print('x_train shape:', x_train.shape)\n",
    "\n",
    "    # convert class vectors to binary class matrices\n",
    "    y_train = keras.utils.to_categorical(y_train, num_classes)\n",
    "    y_test = keras.utils.to_categorical(y_test, num_classes)\n",
    "    return (x_train, y_train, x_test, y_test, input_shape)"
   ]
  },
  {
   "cell_type": "code",
   "execution_count": 14,
   "metadata": {},
   "outputs": [
    {
     "name": "stdout",
     "output_type": "stream",
     "text": [
      "x_train shape: (60000, 28, 28, 1)\n",
      "Train on 60000 samples, validate on 10000 samples\n",
      "Epoch 1/25\n",
      "60000/60000 [==============================] - 7s 121us/step - loss: 0.2668 - acc: 0.9174 - val_loss: 0.0599 - val_acc: 0.9807\n",
      "Epoch 2/25\n",
      "60000/60000 [==============================] - 7s 110us/step - loss: 0.0874 - acc: 0.9744 - val_loss: 0.0356 - val_acc: 0.9888\n",
      "Epoch 3/25\n",
      "60000/60000 [==============================] - 6s 105us/step - loss: 0.0677 - acc: 0.9801 - val_loss: 0.0292 - val_acc: 0.9894\n",
      "Epoch 4/25\n",
      "60000/60000 [==============================] - 6s 104us/step - loss: 0.0563 - acc: 0.9832 - val_loss: 0.0267 - val_acc: 0.9916\n",
      "Epoch 5/25\n",
      "60000/60000 [==============================] - 6s 101us/step - loss: 0.0500 - acc: 0.9847 - val_loss: 0.0252 - val_acc: 0.9922\n",
      "Epoch 6/25\n",
      "60000/60000 [==============================] - 6s 101us/step - loss: 0.0416 - acc: 0.9871 - val_loss: 0.0229 - val_acc: 0.9936\n",
      "Epoch 7/25\n",
      "60000/60000 [==============================] - 6s 102us/step - loss: 0.0376 - acc: 0.9887 - val_loss: 0.0238 - val_acc: 0.9924\n",
      "Epoch 8/25\n",
      "60000/60000 [==============================] - 6s 102us/step - loss: 0.0369 - acc: 0.9888 - val_loss: 0.0233 - val_acc: 0.9924\n",
      "Epoch 9/25\n",
      "60000/60000 [==============================] - 6s 101us/step - loss: 0.0321 - acc: 0.9902 - val_loss: 0.0190 - val_acc: 0.9940\n",
      "Epoch 10/25\n",
      "60000/60000 [==============================] - 6s 101us/step - loss: 0.0295 - acc: 0.9906 - val_loss: 0.0202 - val_acc: 0.9935\n",
      "Epoch 11/25\n",
      "60000/60000 [==============================] - 6s 101us/step - loss: 0.0293 - acc: 0.9907 - val_loss: 0.0198 - val_acc: 0.9935\n",
      "Epoch 12/25\n",
      "60000/60000 [==============================] - 6s 100us/step - loss: 0.0275 - acc: 0.9913 - val_loss: 0.0192 - val_acc: 0.9937\n",
      "Epoch 13/25\n",
      "60000/60000 [==============================] - 6s 100us/step - loss: 0.0253 - acc: 0.9919 - val_loss: 0.0207 - val_acc: 0.9934\n",
      "Epoch 14/25\n",
      "60000/60000 [==============================] - 6s 100us/step - loss: 0.0236 - acc: 0.9924 - val_loss: 0.0190 - val_acc: 0.9941\n",
      "Epoch 15/25\n",
      "60000/60000 [==============================] - 6s 100us/step - loss: 0.0225 - acc: 0.9930 - val_loss: 0.0190 - val_acc: 0.9944\n",
      "Epoch 16/25\n",
      "60000/60000 [==============================] - 6s 101us/step - loss: 0.0235 - acc: 0.9927 - val_loss: 0.0167 - val_acc: 0.9954\n",
      "Epoch 17/25\n",
      "60000/60000 [==============================] - 6s 99us/step - loss: 0.0205 - acc: 0.9934 - val_loss: 0.0197 - val_acc: 0.9934\n",
      "Epoch 18/25\n",
      "60000/60000 [==============================] - 6s 100us/step - loss: 0.0203 - acc: 0.9932 - val_loss: 0.0222 - val_acc: 0.9934\n",
      "Epoch 19/25\n",
      "60000/60000 [==============================] - 6s 100us/step - loss: 0.0199 - acc: 0.9938 - val_loss: 0.0196 - val_acc: 0.9947\n",
      "Epoch 20/25\n",
      "60000/60000 [==============================] - 6s 100us/step - loss: 0.0180 - acc: 0.9938 - val_loss: 0.0221 - val_acc: 0.9941\n",
      "Epoch 21/25\n",
      "60000/60000 [==============================] - 6s 100us/step - loss: 0.0161 - acc: 0.9946 - val_loss: 0.0215 - val_acc: 0.9941\n",
      "Epoch 22/25\n",
      "60000/60000 [==============================] - 6s 99us/step - loss: 0.0176 - acc: 0.9943 - val_loss: 0.0215 - val_acc: 0.9945\n",
      "Epoch 23/25\n",
      "60000/60000 [==============================] - 6s 100us/step - loss: 0.0166 - acc: 0.9950 - val_loss: 0.0193 - val_acc: 0.9940\n",
      "Epoch 24/25\n",
      "60000/60000 [==============================] - 6s 100us/step - loss: 0.0163 - acc: 0.9946 - val_loss: 0.0188 - val_acc: 0.9947 - ETA: 0s - loss: 0.0160 - acc: 0.994\n",
      "Epoch 25/25\n",
      "60000/60000 [==============================] - 6s 99us/step - loss: 0.0161 - acc: 0.9948 - val_loss: 0.0190 - val_acc: 0.9949\n",
      "Test loss: 0.01904736634167025\n",
      "Test accuracy: 0.9949\n"
     ]
    }
   ],
   "source": [
    "batch_size = 128\n",
    "num_classes = 10\n",
    "epochs = 25\n",
    "\n",
    "x_train, y_train, x_test, y_test, input_shape = loadAndPrepareMNIST()\n",
    "\n",
    "model = Sequential()\n",
    "model.add(Conv2D(32, kernel_size=(4, 4),\n",
    "                 activation='relu',\n",
    "                 input_shape=input_shape))\n",
    "model.add(Conv2D(64, (4, 4), activation='relu'))\n",
    "model.add(MaxPooling2D(pool_size=(3, 3)))\n",
    "model.add(Dropout(0.3))\n",
    "model.add(Flatten())\n",
    "model.add(Dense(128, activation='relu'))\n",
    "model.add(Dropout(0.5))\n",
    "model.add(Dense(num_classes, activation='softmax'))\n",
    "\n",
    "model.compile(loss=keras.losses.categorical_crossentropy,\n",
    "              optimizer=keras.optimizers.Adam(),\n",
    "              metrics=['accuracy'])\n",
    "\n",
    "model.fit(x_train, y_train,\n",
    "          batch_size=batch_size,\n",
    "          epochs=epochs,\n",
    "          verbose=1,\n",
    "          validation_data=(x_test, y_test))\n",
    "score = model.evaluate(x_test, y_test, verbose=0)\n",
    "print('Test loss:', score[0])\n",
    "print('Test accuracy:', score[1])"
   ]
  },
  {
   "cell_type": "markdown",
   "metadata": {},
   "source": [
    "<h2>Experimental Methods</h2>\n",
    "<p>The runs below are experimental, when a better result beats the current best it will replace it.</p>"
   ]
  },
  {
   "cell_type": "code",
   "execution_count": null,
   "metadata": {},
   "outputs": [],
   "source": []
  }
 ],
 "metadata": {
  "kernelspec": {
   "display_name": "Python 3",
   "language": "python",
   "name": "python3"
  },
  "language_info": {
   "codemirror_mode": {
    "name": "ipython",
    "version": 3
   },
   "file_extension": ".py",
   "mimetype": "text/x-python",
   "name": "python",
   "nbconvert_exporter": "python",
   "pygments_lexer": "ipython3",
   "version": "3.6.5"
  }
 },
 "nbformat": 4,
 "nbformat_minor": 2
}
