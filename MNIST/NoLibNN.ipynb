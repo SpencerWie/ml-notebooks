{
 "cells": [
  {
   "cell_type": "markdown",
   "metadata": {},
   "source": [
    "<h2>Creating a Nerual Network without using ML libraries</h2>\n",
    "\n",
    "<p>\n",
    "This notebook will be going over creating a simple nerual network using the classifcal approach of using Stochastic Gradient Descent (SGD) with logistic/sigmoid actication functions and a sqaured mean error cost function.\n",
    "</p>\n",
    "<p>\n",
    "This will be based on the free online book: <a href=\"http://neuralnetworksanddeeplearning.com/chap1.html\">Neural Networks And Deep Learning</a>. This is a decent resource for an theredical and pratical introduction to deep learning with nural networks for beginners in this topic.\n",
    "</p>\n",
    "<p>\n",
    "This is mainly going to be an exercise to brush up on some of the roots of neural networks. Sometimes we get so used to using ML libaries we can get rusty on the core implementations. I'll be incuding theory and code explanations as apart of this notebook.\n",
    "</p>"
   ]
  },
  {
   "cell_type": "code",
   "execution_count": 3,
   "metadata": {},
   "outputs": [],
   "source": [
    "# Random and Math libraries along with sigmoid and it's derivative \n",
    "import numpy as np\n",
    "import random\n",
    "\n",
    "def sigmoid(z):\n",
    "    return 1.0/(1.0+np.exp(-z))\n",
    "\n",
    "def sigmoid_derivative(z):\n",
    "    return sigmoid(z)*(1-sigmoid(z))"
   ]
  },
  {
   "cell_type": "markdown",
   "metadata": {},
   "source": [
    "<p>This Sigmoid function is the activation function that each sigmoid applies to it's input. In otherwords this is the function ran on the input <code>z</code> to give a continuous output between 0 and 1.</p>"
   ]
  },
  {
   "cell_type": "code",
   "execution_count": 18,
   "metadata": {
    "scrolled": true
   },
   "outputs": [
    {
     "name": "stdout",
     "output_type": "stream",
     "text": [
      "biases:\n",
      "[array([[ 0.87245472],\n",
      "       [-1.03941897],\n",
      "       [-0.3342632 ]]), array([[0.76938522]])]\n",
      "weights:\n",
      "[array([[-0.40665462,  1.47846826],\n",
      "       [-0.64105812,  0.65607302],\n",
      "       [-0.37428612,  1.10411206]]), array([[-0.08763071, -0.62467696,  0.79350572]])]\n"
     ]
    }
   ],
   "source": [
    "class Network():\n",
    "    def __init__(self, layers):\n",
    "        self.layers = layers\n",
    "        self.num_layers = len(layers)\n",
    "        self.biases = [np.random.randn(x, 1) for x in layers[1:]]\n",
    "        self.weights = [np.random.randn(x, y)\n",
    "                        for y, x in zip(layers[:-1], layers[1:])]\n",
    "        \n",
    "net = Network([2, 3, 1])\n",
    "\n",
    "print(\"biases:\")\n",
    "print(net.biases)\n",
    "print(\"weights:\")\n",
    "print(net.weights)"
   ]
  },
  {
   "cell_type": "markdown",
   "metadata": {},
   "source": [
    "<p>\n",
    "Our network is first defined with an array containing the number of neurons for each layer called <code>layers</code>. Next the <code>biases</code> contain weights between layers. In this case <code>biases[0]</code> is the inital biases for the second layer (the first layer is the input layer and doesn't have biases), and <code>biases[1]</code> is for the output layer.\n",
    "</p>"
   ]
  },
  {
   "cell_type": "code",
   "execution_count": 19,
   "metadata": {},
   "outputs": [],
   "source": [
    "class Network(Network):\n",
    "    def feed_forward(self, x):\n",
    "        for bias, weight in zip(self.biases, self.weights):\n",
    "            x = sigmoid(np.dot(weight, x) + bias)\n",
    "        return x    "
   ]
  },
  {
   "cell_type": "markdown",
   "metadata": {},
   "source": [
    "<p>\n",
    "The method <code>feed_forward</code> takes the input of the network being <code>x</code> and feeds it through the network for an output. This iterates through each layer and applies the activation function being the sigmoid on the input being <code>weight*x + bias</code>"
   ]
  },
  {
   "cell_type": "code",
   "execution_count": null,
   "metadata": {},
   "outputs": [],
   "source": []
  }
 ],
 "metadata": {
  "kernelspec": {
   "display_name": "Python 3",
   "language": "python",
   "name": "python3"
  },
  "language_info": {
   "codemirror_mode": {
    "name": "ipython",
    "version": 3
   },
   "file_extension": ".py",
   "mimetype": "text/x-python",
   "name": "python",
   "nbconvert_exporter": "python",
   "pygments_lexer": "ipython3",
   "version": "3.7.0b5"
  }
 },
 "nbformat": 4,
 "nbformat_minor": 2
}
